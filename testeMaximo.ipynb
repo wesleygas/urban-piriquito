{
 "cells": [
  {
   "cell_type": "code",
   "execution_count": 1,
   "metadata": {},
   "outputs": [],
   "source": [
    "from signalTeste import *\n",
    "from interface import *\n",
    "import numpy as np\n",
    "import sounddevice as sd\n",
    "import matplotlib.pyplot as plt\n",
    "#import wave\n",
    "import time\n",
    "import pickle\n",
    "import peakutils\n",
    "import matplotlib\n",
    "matplotlib.use('TkAgg')"
   ]
  },
  {
   "cell_type": "code",
   "execution_count": 2,
   "metadata": {},
   "outputs": [],
   "source": [
    "sig = signalMeu()\n",
    "fs = 48000\n",
    "sd.default.samplerate = fs\n",
    "sd.default.channels = 1"
   ]
  },
  {
   "cell_type": "code",
   "execution_count": null,
   "metadata": {},
   "outputs": [],
   "source": [
    "#Ex. De geração de sinal\n",
    "#sig.generateSin(frequency, amplitude, duration)\n",
    "\n",
    "time, sinal = sig.generateSin(350,1,2,fs)\n",
    "time, sinal1 = sig.generateSin(250,1,2,fs)\n",
    "time, sinal2 = sig.generateSin(300,1,2,fs)\n",
    "sinalF = np.add(sinal, sinal1)\n",
    "sinalF = np.add(sinalF, sinal2)/3\n",
    "#sd.playrec(inputArray, samplingFrequency, channels)\n",
    "sd.playrec(sinalF, fs, channels=1)\n",
    "plt.plot(time[:2000], sinalF[:2000])\n",
    "plt.show()"
   ]
  },
  {
   "cell_type": "code",
   "execution_count": null,
   "metadata": {},
   "outputs": [],
   "source": [
    "#\n",
    "sig.plotFFT(sinalF[:48000],fs)"
   ]
  },
  {
   "cell_type": "code",
   "execution_count": 3,
   "metadata": {},
   "outputs": [],
   "source": [
    "#Helper Function to generate the signal as a telephone\n",
    "def geraNum(number, amplitude=1, duration = 1, fs=48000):\n",
    "    listaFreq = [[941,1336], [697,1209],\n",
    "                 [697,1336], [697,1477],\n",
    "                 [770,1209], [770,1336],\n",
    "                 [770,1477], [852,1209],\n",
    "                 [852,1336], [852,1477] ]\n",
    "    #print(listaFreq[number])\n",
    "    time, sinal = sig.generateSin(listaFreq[number][0],amplitude,duration,fs)\n",
    "    time, sinal1 = sig.generateSin(listaFreq[number][1],amplitude,duration,fs)\n",
    "    sinalF = np.add(sinal, sinal1)/2\n",
    "    \n",
    "    return time,sinalF"
   ]
  },
  {
   "cell_type": "code",
   "execution_count": 6,
   "metadata": {},
   "outputs": [],
   "source": [
    "#Recebe uma string de números (número de celular, por examplo) e junta pra fazer o dial\n",
    "def geraSeq(numero, pressTime = 0.25, intervalTime = 0.05, fs=48000):\n",
    "    delay = np.zeros(int(intervalTime*fs))\n",
    "    finalSignal = []\n",
    "    for digit in range(len(numero)-1):\n",
    "        tempo, signal = geraNum(int(numero[digit]), duration=pressTime)\n",
    "        finalSignal.append(signal)\n",
    "        finalSignal.append(delay)\n",
    "    tempo, signal = geraNum(int(numero[-1]), duration=pressTime)\n",
    "    finalSignal.append(signal)\n",
    "    finalSignal = np.concatenate(finalSignal)\n",
    "    \n",
    "    return finalSignal\n",
    "\n",
    "\n",
    "finalSignal = geraSeq(\"946337814\")\n",
    "myrecording = sd.playrec(finalSignal, fs, channels=1)\n",
    "#plt.plot(tempo[:500], sinalao[:500])\n",
    "#plt.show()"
   ]
  },
  {
   "cell_type": "code",
   "execution_count": 4,
   "metadata": {},
   "outputs": [
    {
     "ename": "NameError",
     "evalue": "name 'geraSeq' is not defined",
     "output_type": "error",
     "traceback": [
      "\u001b[0;31m---------------------------------------------------------------------------\u001b[0m",
      "\u001b[0;31mNameError\u001b[0m                                 Traceback (most recent call last)",
      "\u001b[0;32m<ipython-input-4-becc85fa16bb>\u001b[0m in \u001b[0;36m<module>\u001b[0;34m()\u001b[0m\n\u001b[0;32m----> 1\u001b[0;31m \u001b[0mfinalSignal\u001b[0m \u001b[0;34m=\u001b[0m \u001b[0mgeraSeq\u001b[0m\u001b[0;34m(\u001b[0m\u001b[0;34m\"1\"\u001b[0m\u001b[0;34m)\u001b[0m\u001b[0;34m\u001b[0m\u001b[0m\n\u001b[0m\u001b[1;32m      2\u001b[0m \u001b[0mmyrecording\u001b[0m \u001b[0;34m=\u001b[0m \u001b[0msd\u001b[0m\u001b[0;34m.\u001b[0m\u001b[0mplayrec\u001b[0m\u001b[0;34m(\u001b[0m\u001b[0mfinalSignal\u001b[0m\u001b[0;34m,\u001b[0m \u001b[0mfs\u001b[0m\u001b[0;34m,\u001b[0m \u001b[0mchannels\u001b[0m\u001b[0;34m=\u001b[0m\u001b[0;36m1\u001b[0m\u001b[0;34m)\u001b[0m\u001b[0;34m\u001b[0m\u001b[0m\n",
      "\u001b[0;31mNameError\u001b[0m: name 'geraSeq' is not defined"
     ]
    }
   ],
   "source": [
    "finalSignal = geraSeq(\"1\")\n",
    "myrecording = sd.playrec(finalSignal, fs, channels=1)"
   ]
  },
  {
   "cell_type": "code",
   "execution_count": 36,
   "metadata": {},
   "outputs": [
    {
     "name": "stdout",
     "output_type": "stream",
     "text": [
      "1\n",
      "str\n"
     ]
    }
   ],
   "source": [
    "num = numero()\n",
    "print(num)"
   ]
  },
  {
   "cell_type": "code",
   "execution_count": 6,
   "metadata": {},
   "outputs": [],
   "source": [
    "tempo, sinalao = geraNum(number=numero(), duration=2)\n",
    "myrecording = sd.playrec(sinalao, fs, channels=1)\n",
    "#sinalao = np.concatenate([sinalao,sinalF])"
   ]
  },
  {
   "cell_type": "code",
   "execution_count": 126,
   "metadata": {},
   "outputs": [],
   "source": [
    "duration = 2\n",
    "myrecording = sd.rec(int(duration * fs))\n",
    "sd.wait()"
   ]
  },
  {
   "cell_type": "code",
   "execution_count": 127,
   "metadata": {},
   "outputs": [
    {
     "data": {
      "image/png": "[encoded data removed]",
      "text/plain": [
       "<matplotlib.figure.Figure at 0x1c199c9f60>"
      ]
     },
     "metadata": {},
     "output_type": "display_data"
    }
   ],
   "source": [
    "plt.plot(myrecording)\n",
    "plt.show()"
   ]
  },
  {
   "cell_type": "code",
   "execution_count": 128,
   "metadata": {},
   "outputs": [],
   "source": [
    "listaFreq = [[941,1336], [697,1209],\n",
    "             [697,1336], [697,1477],\n",
    "             [770,1209], [770,1336],\n",
    "             [770,1477], [852,1209],\n",
    "             [852,1336], [852,1477] ]"
   ]
  },
  {
   "cell_type": "code",
   "execution_count": 135,
   "metadata": {},
   "outputs": [
    {
     "name": "stdout",
     "output_type": "stream",
     "text": [
      "[120 201 272]\n",
      "[122, 121, 120, 119, 118, 203, 202, 201, 200, 199, 274, 273, 272, 271, 270]\n"
     ]
    }
   ],
   "source": [
    "cache = myrecording[0:fs,0]\n",
    "frequencias,FFArray = sig.calcFFT(cache, fs)\n",
    "frequencias = frequencias[:5000]\n",
    "FFArray = FFArray[:5000]\n",
    "indexes = peakutils.indexes(FFArray, thres=0.5, min_dist=70)\n",
    "print(indexes)\n",
    "\n",
    "indexes2 = []\n",
    "p1num = []\n",
    "p2num = []\n",
    "for i in range(len(indexes)):\n",
    "    indexes2.append(round(indexes[i]+2))\n",
    "    indexes2.append(round(indexes[i]+1))\n",
    "    indexes2.append(round(indexes[i]))\n",
    "    indexes2.append(round(indexes[i]-1))\n",
    "    indexes2.append(round(indexes[i]-2))\n",
    "print(indexes2)\n",
    "number = 10\n",
    "for i in range(len(indexes2)):\n",
    "    for j in range(len(listaFreq)):\n",
    "        if indexes2[i] == listaFreq[j][0]:\n",
    "            p1num.append(j)\n",
    "            print(p1num)\n",
    "        if indexes2[i] == listaFreq[j][1]:\n",
    "            p2num.append(j)\n",
    "            print(p2num)\n"
   ]
  },
  {
   "cell_type": "code",
   "execution_count": 136,
   "metadata": {},
   "outputs": [],
   "source": [
    "for i in range(len(p1num)):\n",
    "    for j in range(len(p2num)):\n",
    "        if p1num[i] == p2num[j]:\n",
    "            numero = p1num[i]\n",
    "        else:\n",
    "            numero = 10"
   ]
  },
  {
   "cell_type": "code",
   "execution_count": 137,
   "metadata": {},
   "outputs": [
    {
     "name": "stdout",
     "output_type": "stream",
     "text": [
      "1\n"
     ]
    }
   ],
   "source": [
    "if numero < 10:\n",
    "    print(numero)\n",
    "else:\n",
    "    print(\"erro\")"
   ]
  },
  {
   "cell_type": "code",
   "execution_count": null,
   "metadata": {},
   "outputs": [],
   "source": []
  },
  {
   "cell_type": "code",
   "execution_count": null,
   "metadata": {},
   "outputs": [],
   "source": []
  }
 ],
 "metadata": {
  "kernelspec": {
   "display_name": "Python 3",
   "language": "python",
   "name": "python3"
  },
  "language_info": {
   "codemirror_mode": {
    "name": "ipython",
    "version": 3
   },
   "file_extension": ".py",
   "mimetype": "text/x-python",
   "name": "python",
   "nbconvert_exporter": "python",
   "pygments_lexer": "ipython3",
   "version": "3.6.4"
  }
 },
 "nbformat": 4,
 "nbformat_minor": 2
}
